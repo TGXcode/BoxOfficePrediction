{
 "cells": [
  {
   "cell_type": "code",
   "execution_count": null,
   "id": "b0983b4c-d9ed-4b90-b65b-33f1535b4e3a",
   "metadata": {
    "tags": []
   },
   "outputs": [],
   "source": [
    "# Install requirements\n",
    "!pip install pandas\n",
    "!pip install seaborn\n",
    "!pip install matplotlib\n",
    "!pip install wordcloud\n",
    "!pip install scikit-learn"
   ]
  },
  {
   "cell_type": "code",
   "execution_count": null,
   "id": "81338005-efe3-4f15-b069-287065350d56",
   "metadata": {
    "tags": []
   },
   "outputs": [],
   "source": [
    "# Load the dataset into the kernel and display the top 5 data\n",
    "import pandas as pd\n",
    "import seaborn as sns\n",
    "import matplotlib.pyplot as plt\n",
    "import time\n",
    "from wordcloud import WordCloud\n",
    "from sklearn.model_selection import train_test_split\n",
    "from sklearn.linear_model import LinearRegression\n",
    "from sklearn.metrics import r2_score\n",
    "df = pd.read_csv(\"BoxOfficePrediction/train.csv\")\n",
    "df.head()"
   ]
  },
  {
   "cell_type": "code",
   "execution_count": null,
   "id": "a842075c-ebc5-481b-ac60-2e50e4eb8946",
   "metadata": {
    "tags": []
   },
   "outputs": [],
   "source": [
    "# Show the columns from the data set\n",
    "df.columns"
   ]
  },
  {
   "cell_type": "code",
   "execution_count": null,
   "id": "aa654223-e2a1-41c1-a672-66b2bc3954f3",
   "metadata": {
    "tags": []
   },
   "outputs": [],
   "source": [
    "# Find columns with non-numeric features\n",
    "non_numeric_columns = df.select_dtypes(exclude=['float64', 'int64']).columns\n",
    "print(\"Non-numeric columns:\", non_numeric_columns)"
   ]
  },
  {
   "cell_type": "code",
   "execution_count": null,
   "id": "c9148e7c-26dd-4380-b671-8eaf69ba500b",
   "metadata": {
    "tags": []
   },
   "outputs": [],
   "source": [
    "# Scatterplot to find correlation between revenue and budget\n",
    "plt.figure(figsize=(16, 8))\n",
    "plt.subplot(1, 2, 1)\n",
    "plt.scatter(df['budget'], df['revenue'])\n",
    "plt.title('Revenue vs budget fig(1)');"
   ]
  },
  {
   "cell_type": "code",
   "execution_count": null,
   "id": "6556114a-4c4a-4372-87de-3f5c5c6ec6dc",
   "metadata": {
    "tags": []
   },
   "outputs": [],
   "source": [
    "# Categorical scatterplot to determine if movies with official websites have higher revenue\n",
    "df['has_homepage'] = 0\n",
    "df.loc[df['homepage'].isnull() == False, 'has_homepage'] = 1 # a number 1 means it has home page\n",
    "sns.catplot(x='has_homepage', y='revenue', data=df);\n",
    "plt.title('Revenue for movie with and w/o homepage');"
   ]
  },
  {
   "cell_type": "code",
   "execution_count": null,
   "id": "abfc1069-1ff3-489a-9d3b-b14197885e84",
   "metadata": {
    "tags": []
   },
   "outputs": [],
   "source": [
    "#let's find top words from movie Titles\n",
    "start = time.time()\n",
    "plt.figure(figsize = (12, 12))\n",
    "token_title = ' '.join(df['original_title'].values) #create split to title by sprace to extract the text.\n",
    "#bg color set to white for good contrast, by default bg color is darker\n",
    "wordcloud = WordCloud(max_font_size=None, background_color='white', width=1200, height=1000).generate(token_title)\n",
    "plt.imshow(wordcloud)\n",
    "plt.title('Top words from movie titles ')\n",
    "plt.axis(\"off\") # we dont need axes for this\n",
    "plt.show()\n",
    "print(\" Time taken to complete this operation is\", time.time() - start, 'seconds')"
   ]
  },
  {
   "cell_type": "code",
   "execution_count": null,
   "id": "c77427ab-c100-439f-b922-b8868c1b2aad",
   "metadata": {
    "tags": []
   },
   "outputs": [],
   "source": [
    "# It is time to train the model with the numeric columns\n",
    "numerics = ['int16', 'int32', 'int64', 'float16', 'float32', 'float64']\n",
    "df_train=df.select_dtypes(include=numerics)\n",
    "df_train.drop(columns=['id'],inplace=True)\n",
    "df_train=df_train.fillna(df_train.median()) # Fills the empty values with median of the data set"
   ]
  },
  {
   "cell_type": "code",
   "execution_count": null,
   "id": "136c82eb-4bee-48bb-a8c7-d82c49d33eb1",
   "metadata": {
    "tags": []
   },
   "outputs": [],
   "source": [
    "# Load the training set\n",
    "X = df_train.drop(['revenue'], axis=1)\n",
    "y= df_train['revenue'] #prediction\n",
    "X_train, X_test, y_train, y_test = train_test_split(X, y, random_state = 1)"
   ]
  },
  {
   "cell_type": "code",
   "execution_count": null,
   "id": "769f06ce-a53d-45ce-80ad-0af2ba33407a",
   "metadata": {
    "tags": []
   },
   "outputs": [],
   "source": [
    "# Let's attempt to use linear regression\n",
    "lm = LinearRegression()\n",
    "lm.fit(X_train, y_train)\n",
    "lm_preds = lm.predict(X_test)\n",
    "print(\"R Square: \", r2_score(y_test, lm_preds))"
   ]
  },
  {
   "cell_type": "code",
   "execution_count": null,
   "id": "3d15379d-ab22-4551-82cc-723e655f9910",
   "metadata": {
    "tags": []
   },
   "outputs": [],
   "source": [
    "# Let's also attempt with random forrest\n",
    "import sklearn.metrics as metrics\n",
    "from sklearn.ensemble import RandomForestRegressor\n",
    "RF_model = RandomForestRegressor(random_state =0, n_estimators=500, max_depth=10)\n",
    "RF_model.fit(X_train, y_train)\n",
    "y_hat = RF_model.predict(X_test)\n",
    "print (\"R-Squared is:\", metrics.r2_score(y_hat, y_test))"
   ]
  },
  {
   "cell_type": "code",
   "execution_count": null,
   "id": "aac95c12-a983-4d7b-994f-735c70588c07",
   "metadata": {
    "tags": []
   },
   "outputs": [],
   "source": [
    "# What features does random forrest think have the most weight?\n",
    "import numpy as np\n",
    "importances = pd.DataFrame({'feature':X_train.columns,'importance':np.round(RF_model.feature_importances_,3)})\n",
    "importances = importances.sort_values('importance',ascending=False).set_index('feature');\n",
    "print(importances)\n",
    "importances.plot.bar();"
   ]
  },
  {
   "cell_type": "code",
   "execution_count": null,
   "id": "771a35b2-0311-4be1-9a14-386f4f917dbb",
   "metadata": {
    "tags": []
   },
   "outputs": [],
   "source": [
    "# Linear regression predictions for the test data\n",
    "revenue_predictions = lm.predict(X_test)\n",
    "gbr_predictions = pd.DataFrame(revenue_predictions, columns = ['predicted_revenue'])\n",
    "gbr_predictions.head()"
   ]
  },
  {
   "cell_type": "code",
   "execution_count": null,
   "id": "9248dada-b415-45a5-a5d1-45dc78d150e0",
   "metadata": {
    "tags": []
   },
   "outputs": [],
   "source": [
    "# Random forrest predictions for the test data\n",
    "revenue_predictions = RF_model.predict(X_test)\n",
    "gbr_predictions = pd.DataFrame(revenue_predictions, columns = ['predicted_revenue'])\n",
    "gbr_predictions.head()"
   ]
  },
  {
   "cell_type": "code",
   "execution_count": null,
   "id": "33ef4127-d6d7-4857-a6c8-0384a5e8cb4f",
   "metadata": {},
   "outputs": [],
   "source": []
  }
 ],
 "metadata": {
  "kernelspec": {
   "display_name": "default:Python",
   "language": "python",
   "name": "conda-env-default-py"
  },
  "language_info": {
   "codemirror_mode": {
    "name": "ipython",
    "version": 3
   },
   "file_extension": ".py",
   "mimetype": "text/x-python",
   "name": "python",
   "nbconvert_exporter": "python",
   "pygments_lexer": "ipython3",
   "version": "3.9.16"
  }
 },
 "nbformat": 4,
 "nbformat_minor": 5
}
